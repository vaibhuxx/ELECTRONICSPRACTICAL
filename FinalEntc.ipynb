{
  "nbformat": 4,
  "nbformat_minor": 0,
  "metadata": {
    "colab": {
      "name": "FinalEntc.ipynb",
      "provenance": [],
      "collapsed_sections": [],
      "authorship_tag": "ABX9TyOBeT30jTcsnXAYh/jlXzIa",
      "include_colab_link": true
    },
    "kernelspec": {
      "name": "python3",
      "display_name": "Python 3"
    },
    "language_info": {
      "name": "python"
    }
  },
  "cells": [
    {
      "cell_type": "markdown",
      "metadata": {
        "id": "view-in-github",
        "colab_type": "text"
      },
      "source": [
        "<a href=\"https://colab.research.google.com/github/vaibhuxx/ELECTRONICSPRACTICAL/blob/main/FinalEntc.ipynb\" target=\"_parent\"><img src=\"https://colab.research.google.com/assets/colab-badge.svg\" alt=\"Open In Colab\"/></a>"
      ]
    },
    {
      "cell_type": "markdown",
      "source": [
        "Programming of Raspberry Pi to get feedback from a switch connected to the GPIO pins"
      ],
      "metadata": {
        "id": "ClkU5mPkxp38"
      }
    },
    {
      "cell_type": "markdown",
      "source": [
        "ALGORITHM TO INTERFACE LED and A SWITCH TO RAPBERRY PI SBC\n",
        "1. Import the code needed for GPIO control.\n",
        "2. Import the code needed for the sleep function.\n",
        "3. Use chip Signal numbers.\n",
        "4. Set pin number GPIO4 (pin 7) as output pin\n",
        "5. Set a GPIO17 (pin11) as an input pin and connect a Switch in Pull-up mode.\n",
        "6. Create an infinite loop consisting required code\n",
        "7. Check the status of input pin continuously,"
      ],
      "metadata": {
        "id": "1xAlHsifxz_A"
      }
    },
    {
      "cell_type": "markdown",
      "source": [
        "PROGRAM TO INTERFACE LED and A SWITCH TO RAPBERRY PI SBC"
      ],
      "metadata": {
        "id": "_nlerxhSx3qX"
      }
    },
    {
      "cell_type": "code",
      "source": [
        "---------------------------------------------------------------------------------------------------------------------\n",
        "PROGRAM TO INTERFACE LED and A SWITCH TO RAPBERRY PI SBC\n",
        "---------------------------------------------------------------------------------------------------------------------\n",
        "$ cd ~\n",
        "$ cd /example/gpio\n",
        "$ sudo nano button.py\n",
        "import Rpi.GPIO as gpio #import GPIO library\n",
        "import time #import time library\n",
        "GPIO.setmode(GPIO.BOARD) #Set GPIO pin numbering\n",
        "GPIO.setup(4,GPIO.IN, pull_up_down=GPIO.PUD_UP) #Enable input and pull down resistors\n",
        "while True:\n",
        "Input_value = GPIO.input(4) #Read and store value of input to a variable\n",
        "If input_value == True: #Check whether switch is pressed\n",
        "print(‘switch is pressed’) #Print ‘switch is pressed’\n",
        "time.sleep(0.5) #Delay of 0.5 s"
      ],
      "metadata": {
        "id": "_Acf9yCWyACw"
      },
      "execution_count": null,
      "outputs": []
    },
    {
      "cell_type": "markdown",
      "source": [
        "Programming of Raspberry Pi to control LEDs attached to the GPIO pins"
      ],
      "metadata": {
        "id": "5QqzBY6syFKo"
      }
    },
    {
      "cell_type": "markdown",
      "source": [
        "Algorithm for Blinking LED\n",
        "1. Import the code needed for GPIO control.\n",
        "2. Import the code needed for the sleep function.\n",
        "3. Use chip Signal numbers.\n",
        "4. Set pin number GPIO21 (pin 40) as output pin\n",
        "5. Create an infinite loop consisting required code\n",
        "6. Turn ON the LED\n",
        "7. Wait for 2 seconds\n",
        "8. Turn OFF the LED\n",
        "9. Wait for 2 seconds"
      ],
      "metadata": {
        "id": "a2YbM1BMyNxk"
      }
    },
    {
      "cell_type": "code",
      "source": [
        "PROGRAM TO INTERFACE LED and A SWITCH TO RAPBERRY PI SBC\n",
        "$ sudo apt-get install python-rpi.gpio\n",
        "#Install gpio support for raspberry pi\n",
        "$ cd ~\n",
        "$ mkdir example\n",
        "$ mkdir gpio\n",
        "$ sudo nano led1.py\n",
        "import RPi.GPIO as GPIO import time GPIO.setmode(GPIO.BCM)\n",
        "GPIO.setwarnings(False) GPIO.setup(21, GPIO.OUT) print \"LED on\" GPIO.output(21, GPIO.HIGH) time.sleep(10) print \"LED off\" GPIO.output(21, GPIO.LOW)\n",
        "gpio.cleanup()\n",
        "Printf(‘GPIO ran fine and cleaned up’)"
      ],
      "metadata": {
        "id": "5BUJJ1Q9yOoa"
      },
      "execution_count": null,
      "outputs": []
    },
    {
      "cell_type": "markdown",
      "source": [
        "Programming of Raspberry Pi for Motion detection"
      ],
      "metadata": {
        "id": "cG7BQTotyTpw"
      }
    },
    {
      "cell_type": "markdown",
      "source": [
        "Algorithm for Interfacing PIR sensor to Raspberry Pi\n",
        "1. Import the code needed for GPIO control.\n",
        "2. Use chip Signal numbers.\n",
        "3. Set pin number GPIO5 (pin 29) as input pin\n",
        "4. Set pin number GPIO12 (pin 32) as output pin\n",
        "5. Create an infinite loop consisting required code\n",
        "6. Check the status of GPIO12\n",
        "7. Wait for 1 second"
      ],
      "metadata": {
        "id": "Ltr30XECyZ1v"
      }
    },
    {
      "cell_type": "code",
      "source": [
        "PROGRAM TO INTERFACE LED and A PIR SENSOR TO RAPBERRY PI SBC\n",
        "import RPi.GPIO as GPIO #import GPIO Library\n",
        "GPIO.setwarnings(False) # do not show any warnings\n",
        "PIR_input = 29 #read input from PIR\n",
        "LED = 32 #LED for indication of movement detection\n",
        "GPIO.setmode(GPIO.BOARD) #choose pin number system\n",
        "GPIO.setup(PIR_input, GPIO.IN) # initialize GPIO5 (PIR_Input pin 29) as an input\n",
        "GPIO.setup(LED, GPIO.OUT) # initialize GPIO12 (LED pin 32) as an output.\n",
        "while true: # execute loop forever\n",
        "if(GPIO.input(PIR_input)):\n",
        "GPIO.output(LED, GPIO.HIGH)\n",
        "else:\n",
        "GPIO.output(LED,GPIO,LOW)"
      ],
      "metadata": {
        "id": "eBSRwHj3yceM"
      },
      "execution_count": null,
      "outputs": []
    },
    {
      "cell_type": "markdown",
      "source": [
        "Programming of Raspberry Pi to measure temperature using temperature sensor"
      ],
      "metadata": {
        "id": "YbEV-YwbzoCr"
      }
    },
    {
      "cell_type": "code",
      "source": [
        "PROGRAM TO INTERFACE DHT11 TEMPERATURE SENSOR TO RAPBERRY PI\n",
        "sudo apt update\n",
        "sudo apt full-upgrade\n",
        "sudo apt install python3-pip\n",
        "sudo pip3 install --upgrade setuptools\n",
        "sudo reboot\n",
        "sudo pip3 install --upgrade adafruit-python-shell\n",
        "wget https://raw.githubusercontent.com/adafruit/Raspberry-Pi-Installer-Scripts/master/raspi-blinka.py\n",
        "sudo python3 raspi-blinka.py\n",
        "pip3 install adafruit-circuitpython-dht\n",
        "sudo apt-get install libgpiod2\n",
        "import time\n",
        "import board\n",
        "import adafruit_dht #DHT-sensor specific library\n",
        "import psutil #library for retrieving information on the running processes.\n",
        "# We first check if a libgpiod process is running. If yes, we kill it!\n",
        "for proc in psutil.process_iter():\n",
        "if proc.name() == 'libgpiod_pulsein' or proc.name() == 'libgpiod_pulsei':\n",
        "proc.kill()\n",
        "sensor = adafruit_dht.DHT11(board.D23) #define the type of sensor and pin number\n",
        "while True:\n",
        "try:\n",
        "temp = sensor.temperature #reading the temperature value from the sensor.\n",
        "humidity = sensor.humidity #reading the humidity value from the sensor.\n",
        "print(\"Temperature: {}*C Humidity: {}% \".format(temp, humidity)) #printing the results on the screen. Considering the limited accuracy of the sensor, the results are formatted with no decimals.\n",
        "except RuntimeError as error:\n",
        "print(error.args[0])\n",
        "time.sleep(2.0)\n",
        "continue\n",
        "except Exception as error:\n",
        "sensor.exit()\n",
        "raise error\n",
        "time.sleep(2.0) #wait for 2 seconds."
      ],
      "metadata": {
        "id": "uUgyu2ybzo-y"
      },
      "execution_count": null,
      "outputs": []
    },
    {
      "cell_type": "markdown",
      "source": [
        "Study of RFID System"
      ],
      "metadata": {
        "id": "MK9as6UJyf13"
      }
    },
    {
      "cell_type": "code",
      "source": [
        "---------------------------------------------------------------------------------------------------------------------\n",
        "PROGRAM TO INTERFACING RFID MODULE TO ARDUINO BOARD\n",
        "---------------------------------------------------------------------------------------------------------------------\n",
        "#include <SPI.h>\n",
        "#include <MFRC522.h>\n",
        "#include <Servo.h>\n",
        "#define SS_PIN 10\n",
        "#define RST_PIN 9\n",
        "#define SERVO_PIN A5\n",
        "MFRC522 rfid(SS_PIN, RST_PIN);\n",
        "Servo servo;\n",
        "byte authorizedUID[4] = {0x27, 0x8A, 0x07, 0xD9};\n",
        "int angle = 0; // the current angle of servo motor\n",
        "void setup() {\n",
        "Serial.begin(9600);\n",
        "SPI.begin(); // init SPI bus\n",
        "rfid.PCD_Init(); // init MFRC522\n",
        "servo.attach(SERVO_PIN);\n",
        "servo.write(angle); // rotate servo motor to 0°\n",
        "Serial.println(\"Tap RFID/NFC Tag on reader\");\n",
        "}\n",
        "void loop() {\n",
        "if (rfid.PICC_IsNewCardPresent()) { // new tag is available\n",
        "if (rfid.PICC_ReadCardSerial()) { // NUID has been readed\n",
        "MFRC522::PICC_Type piccType = rfid.PICC_GetType(rfid.uid.sak);\n",
        "if (rfid.uid.uidByte[0] == authorizedUID[0] &&\n",
        "rfid.uid.uidByte[1] == authorizedUID[1] &&\n",
        "rfid.uid.uidByte[2] == authorizedUID[2] &&\n",
        "rfid.uid.uidByte[3] == authorizedUID[3] ) {\n",
        "Serial.println(\"Authorized Tag\");\n",
        "// change angle of servo motor\n",
        "if (angle == 0)\n",
        "angle = 90;\n",
        "else //if(angle == 90)\n",
        "angle = 0;\n",
        "// control servo motor arccoding to the angle\n",
        "servo.write(angle);\n",
        "Serial.print(\"Rotate Servo Motor to \");\n",
        "Serial.print(angle);\n",
        "Serial.println(\"°\");\n",
        "} else {\n",
        "Serial.print(\"Unauthorized Tag with UID:\");\n",
        "for (int i = 0; i < rfid.uid.size; i++) {\n",
        "Serial.print(rfid.uid.uidByte[i] < 0x10 ? \" 0\" : \" \");\n",
        "Serial.print(rfid.uid.uidByte[i], HEX);\n",
        "}\n",
        "Serial.println();\n",
        "}\n",
        "rfid.PICC_HaltA(); // halt PICC\n",
        "rfid.PCD_StopCrypto1(); // stop encryption on PCD\n",
        "}\n",
        "}\n",
        "}\n",
        "--------------------------------------------------------------------------------------------------------------"
      ],
      "metadata": {
        "id": "ihuzoB9VywvF"
      },
      "execution_count": null,
      "outputs": []
    },
    {
      "cell_type": "markdown",
      "source": [
        "Temperature and Humidity Sensing Using Arduino"
      ],
      "metadata": {
        "id": "-9GoFahQy2-G"
      }
    },
    {
      "cell_type": "code",
      "source": [
        "---------------------------------------------------------------------------------------------------------------------\n",
        "PROGRAM TO INTERFACING DHT11 SENSOR TO ARDUINO BOARD\n",
        "---------------------------------------------------------------------------------------------------------------------\n",
        "#include <SimpleDHT.h>\n",
        "#include <SimpleDHT.h>\n",
        "// for DHT11,\n",
        "// VCC: 5V or 3V\n",
        "// GND: GND\n",
        "// DATA: 2\n",
        "int pinDHT11 = 2;\n",
        "SimpleDHT11 dht11(pinDHT11);\n",
        "void setup(){\n",
        "Serial.println(\"Sample DHT11...\");\n",
        "Serial.begin(9600);\n",
        "}\n",
        "void loop()\n",
        "{\n",
        "byte temperature = 0;\n",
        "byte humidity = 0;\n",
        "int err = SimpleDHTErrSuccess;\n",
        "if ((err = dht11.read(&temperature, &humidity, NULL)) != SimpleDHTErrSuccess)\n",
        "{\n",
        "Serial.print(\"Read DHT11 failed, err=\");\n",
        "Serial.print(SimpleDHTErrCode(err));\n",
        "Serial.print(\",\");\n",
        "Serial.println(SimpleDHTErrDuration(err));\n",
        "delay(1000);\n",
        "return;\n",
        "}\n",
        "Serial.print((int)temperature);\n",
        "Serial.print(\" *C, \");\n",
        "Serial.print((int)humidity);\n",
        "Serial.println(\" H\");\n",
        "delay(1500);\n",
        "}"
      ],
      "metadata": {
        "id": "q1fCm9gmy5Xj"
      },
      "execution_count": null,
      "outputs": []
    },
    {
      "cell_type": "markdown",
      "source": [
        "To Study Arduino Based LED Switching Using Mobile"
      ],
      "metadata": {
        "id": "rMKPgenRzB24"
      }
    },
    {
      "cell_type": "code",
      "source": [
        "PROGRAM TO INTERFACING BLUETOOTH MODULE TO ARDUINO BOARD\n",
        "---------------------------------------------------------------------------------------------------------------------\n",
        "char Incoming_value=0;\n",
        "void setup()\n",
        "{\n",
        "Serial.begin(9600);\n",
        "pinMode(13,OUTPUT);\n",
        "}\n",
        "void loop()\n",
        "{\n",
        "if(Serial.available()>0)\n",
        "{\n",
        "Incoming_value=Serial.read();\n",
        "Serial.print(Incoming_value);\n",
        "Serial.print(\"\\n\");\n",
        "if(Incoming_value=='1')\n",
        "digitalWrite(13,HIGH);\n",
        "else if(Incoming_value=='0')\n",
        "digitalWrite(13,LOW);\n",
        "}\n",
        "}"
      ],
      "metadata": {
        "id": "191Mb07FzEer"
      },
      "execution_count": null,
      "outputs": []
    },
    {
      "cell_type": "markdown",
      "source": [
        "Introduction to Python programming"
      ],
      "metadata": {
        "id": "dWc3QFsAzI2g"
      }
    },
    {
      "cell_type": "code",
      "source": [
        "# PYTHON3 PROGRAM TO ADD TWO NUMBERS\n",
        "num1 = 15\n",
        "num2 = 12\n",
        "# Adding two nos\n",
        "sum = num1 + num2\n",
        "# printing values\n",
        "print(\"Sum of {0} and {1} is {2}\" .format(num1, num2, sum))\n",
        "OUTPUT:\n",
        "Sum of 15 and 12 is 27\n",
        "Example : Adding two number provided by user input\n",
        "number1 = input(\"First number: \")\n",
        "number2 = input(\"\\nSecond number: \")\n",
        "# Adding two numbers\n",
        "# User might also enter float numbers\n",
        "sum = float(number1) + float(number2)\n",
        "# Display the sum\n",
        "# will print value in float\n",
        "print(\"The sum of {0} and {1} is {2}\" .format(number1, number2, sum))\n",
        "OUTPUT:\n",
        "First number: 13.5 Second number: 1.54\n",
        "The sum of 13.5 and 1.54 is 15.04\n",
        "# PYTHON3 PROGRAM TO SUBTRACT TWO NUMBERS\n",
        "num1 = 15\n",
        "num2 = 12\n",
        "res = num1 - num2\n",
        "# printing values\n",
        "print(\"Subtraction of {0} and {1} is {2}\" .format(num1, num2, res))\n",
        "OUTPUT:\n",
        "Subtraction of 15 and 12 is 3\n",
        "Example : Subtraction of two number provided by user input\n",
        "number1 = input(\"First number: \")\n",
        "number2 = input(\"\\nSecond number: \")\n",
        "# subtracting two numbers\n",
        "# User might also enter float numbers\n",
        "res = float(number1) - float(number2)\n",
        "# Display the subtraction\n",
        "# will print value in float\n",
        "print(\"The subtraction of {0} and {1} is {2}\" .format(number1, number2, res))\n",
        "OUTPUT:\n",
        "First number: 13.5 Second number: 1.5\n",
        "The subtraction of 13.5 and 1.54 is 12.0\n",
        "# PYTHON3 PROGRAM TO MULTIPLY TWO NUMBERS\n",
        "num1 = 15\n",
        "num2 = 3\n",
        "# multiplication of two nos\n",
        "res = num1 * num2\n",
        "# printing values\n",
        "print(\"multiplication of {0} and {1} is {2}\" .format(num1, num2, res))\n",
        "OUTPUT:\n",
        "multiplication of 15 and 3 is 45\n",
        "Example : multiplication of two number provided by user input\n",
        "# Python3 program to multiply two numbers\n",
        "number1 = input(\"First number: \")\n",
        "number2 = input(\"\\nSecond number: \")\n",
        "# multiplication two numbers\n",
        "# User might also enter float numbers\n",
        "res = float(number1) * float(number2)\n",
        "# Display the Multiplication\n",
        "# will print value in float\n",
        "print(\"The multiplication of {0} and {1} is {2}\" .format(number1, number2, res))\n",
        "OUTPUT:\n",
        "First number: 15.3 Second number: 12.3\n",
        "The multiplication of 15.3 and 12.3 is 188.19\n",
        "# PYTHON3 PROGRAM TO DIVIDE TWO NUMBERS\n",
        "num1 = 15\n",
        "num2 = 3\n",
        "# Division of two nos\n",
        "res = num1 / num2\n",
        "# printing values\n",
        "print(\"Division of {0} and {1} is {2}\" .format(num1, num2, res))\n",
        "OUTPUT:\n",
        "Division of 15 and 3 is 5\n",
        "Example : Division of two number provided by user input\n",
        "# Python3 program to divide two numbers\n",
        "number1 = input(\"First number: \")\n",
        "number2 = input(\"\\nSecond number: \")\n",
        "# Division two numbers\n",
        "# User might also enter float numbers\n",
        "res = float(number1) / float(number2)\n",
        "# Display the Division\n",
        "# will print value in float\n",
        "print(\"The Division of {0} and {1} is {2}\" .format(number1, number2, res))\n",
        "OUTPUT:\n",
        "First number: 15.3 Second number: 3.3\n",
        "The Division of 15.3 and 3.3 is 4.6363\n",
        "# PYTHON3 PROGRAM TO FIND MAXIMUM NUMBER\n",
        "In the Given two numbers, write a Python code to find the Maximum of these two numbers.\n",
        "Method #1: This is the naive approach where we will compare tow numbers using if-else statement and will print the output accordingly. Example:\n",
        "# Python program to find the\n",
        "# maximum of two numbers\n",
        "def maximum(a, b):\n",
        "if a >= b:\n",
        "return a\n",
        "else:\n",
        "return b\n",
        "from math import *\n",
        "# Driver code\n",
        "a = 2\n",
        "b = 4\n",
        "print(maximum(a, b)) OUTPUT:\n",
        "4 Method #2: Using max() function This function is used to find the maximum of the values passed as its arguments. Example:\n",
        "# Python program to find the\n",
        "# maximum of two numbers\n",
        "from math import *\n",
        "a = 2\n",
        "b = 4\n",
        "maximum = max(a, b)\n",
        "print(maximum) Output:\n",
        "4\n",
        "Example : Print a message based on whether the condition is True or False(Boolean operator)\n",
        "a = 200 b = 33 if b > a: print(\"b is greater than a\") else: print(\"b is not greater than a\")\n",
        "OUTPUT:\n",
        "b is not greater than a\n",
        "# PYTHON3 PROGRAM FOR ADDITION, SUBTRACTION, MULTIPLICATION AND DIVISION USING FUNCTIONS\n",
        "#Addition function\n",
        "def add(x,y):\n",
        "s = x + y\n",
        "print(“Addition is: ”,s)\n",
        "#Subtraction function\n",
        "def subtract(x,y):\n",
        "s = x - y\n",
        "print(“Subtraction is: ”,s)\n",
        "#Multiplication function\n",
        "def multiply(x,y):\n",
        "s = x * y\n",
        "print(“Multiplication is: ”,s)\n",
        "#Division function\n",
        "def division(x,y):\n",
        "s = x / y\n",
        "print(“Division is: ”,s)\n",
        "#Ask for user input\n",
        "x = float(input(“Enter x: ”))\n",
        "y = float(input(“Enter y: ”))\n",
        "#Function call\n",
        "add(x,y)\n",
        "subtract(x,y)\n",
        "multiply(x,y)\n",
        "division(x,y)\n",
        "OUTPUT:\n",
        "Enter x: 20\n",
        "Enter y: 4\n",
        "Addition is: 25\n",
        "Subtraction is: 15\n",
        "Multiplication is: 100\n",
        "Division is: 4.0"
      ],
      "metadata": {
        "id": "u4ypvb6tzNVF"
      },
      "execution_count": null,
      "outputs": []
    }
  ]
}